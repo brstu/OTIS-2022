{
 "cells": [
  {
   "cell_type": "code",
   "execution_count": 1,
   "id": "03529130",
   "metadata": {},
   "outputs": [],
   "source": [
    "from phitigra import GraphEditor\n",
    "from sage.all import graphs, digraphs\n",
    "\n",
    "from ipycanvas import MultiCanvas, hold_canvas\n",
    "from ipywidgets import (Label, BoundedIntText, Text, VBox, HBox, Output, Button,\n",
    "                        Dropdown, ColorPicker, ToggleButton,\n",
    "                        Layout, ToggleButtons)\n",
    "from random import randint, randrange\n",
    "from math import pi, sqrt, atan2\n",
    "from copy import copy\n",
    "\n",
    "from sage.graphs.all import Graph\n",
    "from sage.modules.free_module_element import vector\n",
    "\n",
    "from export import *"
   ]
  },
  {
   "cell_type": "code",
   "execution_count": 2,
   "id": "ba6d572d",
   "metadata": {
    "scrolled": false
   },
   "outputs": [
    {
     "data": {
      "application/vnd.jupyter.widget-view+json": {
       "model_id": "636c7f9d1c6642eeb6e72c6d197d6bc0",
       "version_major": 2,
       "version_minor": 0
      },
      "text/plain": [
       "HBox(children=(VBox(children=(MultiCanvas(height=400, layout=Layout(border='3px solid lightgrey', height='406p…"
      ]
     },
     "metadata": {},
     "output_type": "display_data"
    }
   ],
   "source": [
    "\n",
    "ed = GraphEditor(Graph(2))\n",
    "\n",
    "ed.show()"
   ]
  },
  {
   "cell_type": "code",
   "execution_count": 3,
   "id": "39124934",
   "metadata": {},
   "outputs": [],
   "source": [
    "export_to_pickle(ed.graph, \"qw.pkl\")"
   ]
  },
  {
   "cell_type": "code",
   "execution_count": 4,
   "id": "ea92032f",
   "metadata": {},
   "outputs": [],
   "source": [
    "f = export_from_pickle(\"qw.pkl\")"
   ]
  },
  {
   "cell_type": "code",
   "execution_count": 5,
   "id": "2287b74e",
   "metadata": {},
   "outputs": [],
   "source": [
    "ed2 = GraphEditor(f)"
   ]
  },
  {
   "cell_type": "code",
   "execution_count": 6,
   "id": "16a90cf8",
   "metadata": {},
   "outputs": [
    {
     "data": {
      "application/vnd.jupyter.widget-view+json": {
       "model_id": "5136b14e15464a0db0bbe471d5e7bdc4",
       "version_major": 2,
       "version_minor": 0
      },
      "text/plain": [
       "HBox(children=(VBox(children=(MultiCanvas(height=400, image_data=b'\\x89PNG\\r\\n\\x1a\\n\\x00\\x00\\x00\\rIHDR\\x00\\x00…"
      ]
     },
     "metadata": {},
     "output_type": "display_data"
    }
   ],
   "source": [
    "ed2.show()"
   ]
  },
  {
   "cell_type": "code",
   "execution_count": 37,
   "id": "c15add7d",
   "metadata": {},
   "outputs": [
    {
     "data": {
      "application/vnd.jupyter.widget-view+json": {
       "model_id": "305d67beac484e1bb6cfb8f61174606d",
       "version_major": 2,
       "version_minor": 0
      },
      "text/plain": [
       "HBox(children=(VBox(children=(MultiCanvas(height=400, layout=Layout(border='3px solid lightgrey', height='406p…"
      ]
     },
     "metadata": {},
     "output_type": "display_data"
    }
   ],
   "source": [
    "ed2 = GraphEditor(digraphs.Circuit(0))\n",
    "ed2.show()"
   ]
  },
  {
   "cell_type": "code",
   "execution_count": 38,
   "id": "7e283cfd",
   "metadata": {},
   "outputs": [],
   "source": [
    "export_to_file(list(ed2.graph.adjacency_matrix()), \"f\", \"f.txt\", orient=True)"
   ]
  },
  {
   "cell_type": "code",
   "execution_count": 39,
   "id": "aff5dee7",
   "metadata": {},
   "outputs": [],
   "source": [
    "f2 = export_from_file(\"f.txt\")"
   ]
  },
  {
   "cell_type": "code",
   "execution_count": 46,
   "id": "0143b2c3",
   "metadata": {},
   "outputs": [
    {
     "name": "stdout",
     "output_type": "stream",
     "text": [
      "[[0, 1], [0, 0]]\n"
     ]
    }
   ],
   "source": [
    "\n",
    "print(f2[0])"
   ]
  },
  {
   "cell_type": "code",
   "execution_count": 47,
   "id": "1aededa5",
   "metadata": {},
   "outputs": [
    {
     "ename": "TypeError",
     "evalue": "object of type 'int' has no len()",
     "output_type": "error",
     "traceback": [
      "\u001b[0;31m---------------------------------------------------------------------------\u001b[0m",
      "\u001b[0;31mTypeError\u001b[0m                                 Traceback (most recent call last)",
      "Input \u001b[0;32mIn [47]\u001b[0m, in \u001b[0;36m<cell line: 1>\u001b[0;34m()\u001b[0m\n\u001b[1;32m      1\u001b[0m \u001b[38;5;28;01mif\u001b[39;00m f2[\u001b[38;5;241m2\u001b[39m] \u001b[38;5;241m==\u001b[39m \u001b[38;5;124m\"\u001b[39m\u001b[38;5;124mORIENT\u001b[39m\u001b[38;5;124m\"\u001b[39m:\n\u001b[0;32m----> 2\u001b[0m     ed3 \u001b[38;5;241m=\u001b[39m GraphEditor(\u001b[43mdigraphs\u001b[49m\u001b[38;5;241;43m.\u001b[39;49m\u001b[43mCircuit\u001b[49m\u001b[43m(\u001b[49m\u001b[43mf2\u001b[49m\u001b[43m[\u001b[49m\u001b[38;5;241;43m0\u001b[39;49m\u001b[43m]\u001b[49m\u001b[43m[\u001b[49m\u001b[38;5;241;43m0\u001b[39;49m\u001b[43m]\u001b[49m\u001b[43m)\u001b[49m)\n\u001b[1;32m      3\u001b[0m \u001b[38;5;28;01melse\u001b[39;00m:\n\u001b[1;32m      4\u001b[0m     ed3 \u001b[38;5;241m=\u001b[39m GraphEditor(Graph(f2[\u001b[38;5;241m0\u001b[39m]))\n",
      "File \u001b[0;32m~/Downloads/sage-9.7/src/sage/graphs/digraph_generators.py:757\u001b[0m, in \u001b[0;36mDiGraphGenerators.Circuit\u001b[0;34m(self, n)\u001b[0m\n\u001b[1;32m    743\u001b[0m \u001b[38;5;28;01mdef\u001b[39;00m \u001b[38;5;21mCircuit\u001b[39m(\u001b[38;5;28mself\u001b[39m, n):\n\u001b[1;32m    744\u001b[0m     \u001b[38;5;124mr\u001b[39m\u001b[38;5;124;03m\"\"\"\u001b[39;00m\n\u001b[1;32m    745\u001b[0m \u001b[38;5;124;03m    Return the circuit on `n` vertices.\u001b[39;00m\n\u001b[1;32m    746\u001b[0m \n\u001b[0;32m   (...)\u001b[0m\n\u001b[1;32m    755\u001b[0m \u001b[38;5;124;03m        True\u001b[39;00m\n\u001b[1;32m    756\u001b[0m \u001b[38;5;124;03m    \"\"\"\u001b[39;00m\n\u001b[0;32m--> 757\u001b[0m     g \u001b[38;5;241m=\u001b[39m \u001b[43mDiGraph\u001b[49m\u001b[43m(\u001b[49m\u001b[43mn\u001b[49m\u001b[43m,\u001b[49m\u001b[43m \u001b[49m\u001b[43mname\u001b[49m\u001b[38;5;241;43m=\u001b[39;49m\u001b[38;5;124;43m\"\u001b[39;49m\u001b[38;5;124;43mCircuit\u001b[39;49m\u001b[38;5;124;43m\"\u001b[39;49m\u001b[43m)\u001b[49m\n\u001b[1;32m    759\u001b[0m     \u001b[38;5;28;01mif\u001b[39;00m n \u001b[38;5;241m==\u001b[39m \u001b[38;5;241m1\u001b[39m:\n\u001b[1;32m    760\u001b[0m         g\u001b[38;5;241m.\u001b[39mallow_loops(\u001b[38;5;28;01mTrue\u001b[39;00m)\n",
      "File \u001b[0;32m~/Downloads/sage-9.7/src/sage/graphs/digraph.py:838\u001b[0m, in \u001b[0;36mDiGraph.__init__\u001b[0;34m(self, data, pos, loops, format, weighted, data_structure, vertex_labels, name, multiedges, convert_empty_dict_labels_to_None, sparse, immutable)\u001b[0m\n\u001b[1;32m    835\u001b[0m     \u001b[38;5;28mself\u001b[39m\u001b[38;5;241m.\u001b[39mallow_multiple_edges(\u001b[38;5;28;01mTrue\u001b[39;00m \u001b[38;5;28;01mif\u001b[39;00m multiedges \u001b[38;5;28;01melse\u001b[39;00m \u001b[38;5;28;01mFalse\u001b[39;00m,\n\u001b[1;32m    836\u001b[0m                               check\u001b[38;5;241m=\u001b[39m\u001b[38;5;28;01mFalse\u001b[39;00m)\n\u001b[1;32m    837\u001b[0m     \u001b[38;5;28mself\u001b[39m\u001b[38;5;241m.\u001b[39mallow_loops(\u001b[38;5;28;01mTrue\u001b[39;00m \u001b[38;5;28;01mif\u001b[39;00m loops \u001b[38;5;28;01melse\u001b[39;00m \u001b[38;5;28;01mFalse\u001b[39;00m, check\u001b[38;5;241m=\u001b[39m\u001b[38;5;28;01mFalse\u001b[39;00m)\n\u001b[0;32m--> 838\u001b[0m     \u001b[38;5;28;43mself\u001b[39;49m\u001b[38;5;241;43m.\u001b[39;49m\u001b[43madd_edges\u001b[49m\u001b[43m(\u001b[49m\u001b[43mdata\u001b[49m\u001b[43m)\u001b[49m\n\u001b[1;32m    839\u001b[0m \u001b[38;5;28;01melse\u001b[39;00m:\n\u001b[1;32m    840\u001b[0m     \u001b[38;5;28;01mraise\u001b[39;00m \u001b[38;5;167;01mValueError\u001b[39;00m(\u001b[38;5;124m\"\u001b[39m\u001b[38;5;124munknown input format \u001b[39m\u001b[38;5;124m'\u001b[39m\u001b[38;5;132;01m{}\u001b[39;00m\u001b[38;5;124m'\u001b[39m\u001b[38;5;124m\"\u001b[39m\u001b[38;5;241m.\u001b[39mformat(\u001b[38;5;28mformat\u001b[39m))\n",
      "File \u001b[0;32m~/Downloads/sage-9.7/src/sage/graphs/generic_graph.py:11469\u001b[0m, in \u001b[0;36mGenericGraph.add_edges\u001b[0;34m(self, edges, loops)\u001b[0m\n\u001b[1;32m  11467\u001b[0m \u001b[38;5;28;01mif\u001b[39;00m loops \u001b[38;5;129;01mis\u001b[39;00m \u001b[38;5;28;01mNone\u001b[39;00m:\n\u001b[1;32m  11468\u001b[0m     loops \u001b[38;5;241m=\u001b[39m \u001b[38;5;28mself\u001b[39m\u001b[38;5;241m.\u001b[39mallows_loops()\n\u001b[0;32m> 11469\u001b[0m \u001b[38;5;28;43mself\u001b[39;49m\u001b[38;5;241;43m.\u001b[39;49m\u001b[43m_backend\u001b[49m\u001b[38;5;241;43m.\u001b[39;49m\u001b[43madd_edges\u001b[49m\u001b[43m(\u001b[49m\u001b[43medges\u001b[49m\u001b[43m,\u001b[49m\u001b[43m \u001b[49m\u001b[38;5;28;43mself\u001b[39;49m\u001b[38;5;241;43m.\u001b[39;49m\u001b[43m_directed\u001b[49m\u001b[43m,\u001b[49m\u001b[43m \u001b[49m\u001b[43mremove_loops\u001b[49m\u001b[38;5;241;43m=\u001b[39;49m\u001b[38;5;129;43;01mnot\u001b[39;49;00m\u001b[43m \u001b[49m\u001b[43mloops\u001b[49m\u001b[43m)\u001b[49m\n",
      "File \u001b[0;32m~/Downloads/sage-9.7/src/sage/graphs/base/c_graph.pyx:2350\u001b[0m, in \u001b[0;36msage.graphs.base.c_graph.CGraphBackend.add_edges\u001b[0;34m()\u001b[0m\n\u001b[1;32m   2348\u001b[0m cdef object u, v, l, e\n\u001b[1;32m   2349\u001b[0m for e in edges:\n\u001b[0;32m-> 2350\u001b[0m     if len(e) == 3:\n\u001b[1;32m   2351\u001b[0m         u, v, l = e\n\u001b[1;32m   2352\u001b[0m     else:\n",
      "\u001b[0;31mTypeError\u001b[0m: object of type 'int' has no len()"
     ]
    }
   ],
   "source": [
    "if f2[2] == \"ORIENT\":\n",
    "    ed3 = GraphEditor(digraphs.Circuit(f2[0][0]))\n",
    "else:\n",
    "    ed3 = GraphEditor(Graph(f2[0]))\n",
    "ed3.show()"
   ]
  },
  {
   "cell_type": "code",
   "execution_count": 11,
   "id": "47ea6a21",
   "metadata": {},
   "outputs": [
    {
     "data": {
      "text/plain": [
       "<bound method GenericGraph.adjacency_matrix of Graph on 2 vertices>"
      ]
     },
     "execution_count": 11,
     "metadata": {},
     "output_type": "execute_result"
    }
   ],
   "source": [
    "ed2.graph.adjacency_matrix"
   ]
  },
  {
   "cell_type": "code",
   "execution_count": 45,
   "id": "0bb4ad6d",
   "metadata": {},
   "outputs": [
    {
     "data": {
      "application/vnd.jupyter.widget-view+json": {
       "model_id": "32cf0183b49f447f80612fd6a015ac8b",
       "version_major": 2,
       "version_minor": 0
      },
      "text/plain": [
       "HBox(children=(VBox(children=(MultiCanvas(height=400, layout=Layout(border='3px solid lightgrey', height='406p…"
      ]
     },
     "metadata": {},
     "output_type": "display_data"
    }
   ],
   "source": [
    "matrix = [[0, 2],\n",
    "          [2, 0]]\n",
    "\n",
    "G = Graph(matrix, weighted=True)\n",
    "ed3 = GraphEditor(G)\n",
    "ed3.show()"
   ]
  },
  {
   "cell_type": "code",
   "execution_count": 32,
   "id": "a184810c",
   "metadata": {},
   "outputs": [
    {
     "data": {
      "text/plain": [
       "['ButterflyGraph',\n",
       " 'Circuit',\n",
       " 'Circulant',\n",
       " 'Complete',\n",
       " 'DeBruijn',\n",
       " 'GeneralizedDeBruijn',\n",
       " 'ImaseItoh',\n",
       " 'Kautz',\n",
       " 'Paley',\n",
       " 'Path',\n",
       " 'RandomDirectedAcyclicGraph',\n",
       " 'RandomDirectedGN',\n",
       " 'RandomDirectedGNC',\n",
       " 'RandomDirectedGNM',\n",
       " 'RandomDirectedGNP',\n",
       " 'RandomDirectedGNR',\n",
       " 'RandomSemiComplete',\n",
       " 'RandomTournament',\n",
       " 'TransitiveTournament',\n",
       " '__call__',\n",
       " '__class__',\n",
       " '__delattr__',\n",
       " '__dict__',\n",
       " '__dir__',\n",
       " '__doc__',\n",
       " '__eq__',\n",
       " '__format__',\n",
       " '__ge__',\n",
       " '__getattribute__',\n",
       " '__gt__',\n",
       " '__hash__',\n",
       " '__init__',\n",
       " '__init_subclass__',\n",
       " '__le__',\n",
       " '__lt__',\n",
       " '__module__',\n",
       " '__ne__',\n",
       " '__new__',\n",
       " '__reduce__',\n",
       " '__reduce_ex__',\n",
       " '__repr__',\n",
       " '__setattr__',\n",
       " '__sizeof__',\n",
       " '__str__',\n",
       " '__subclasshook__',\n",
       " '__weakref__',\n",
       " 'nauty_directg',\n",
       " 'tournaments_nauty']"
      ]
     },
     "execution_count": 32,
     "metadata": {},
     "output_type": "execute_result"
    }
   ],
   "source": [
    "import sage\n",
    "dir(digraphs)"
   ]
  },
  {
   "cell_type": "code",
   "execution_count": 17,
   "id": "d12ff09e",
   "metadata": {},
   "outputs": [
    {
     "data": {
      "application/vnd.jupyter.widget-view+json": {
       "model_id": "d0b43cc62de347dab488b02ae31dc8cd",
       "version_major": 2,
       "version_minor": 0
      },
      "text/plain": [
       "HBox(children=(VBox(children=(MultiCanvas(height=400, layout=Layout(border='3px solid lightgrey', height='406p…"
      ]
     },
     "metadata": {},
     "output_type": "display_data"
    }
   ],
   "source": [
    "editor = GraphEditor(Graph(0))\n",
    "editor.show()\n"
   ]
  },
  {
   "cell_type": "code",
   "execution_count": 77,
   "id": "6427d8f7",
   "metadata": {},
   "outputs": [],
   "source": [
    "G = editor.graph"
   ]
  },
  {
   "cell_type": "code",
   "execution_count": 90,
   "id": "c9cb73e4",
   "metadata": {},
   "outputs": [
    {
     "data": {
      "text/plain": [
       "11"
      ]
     },
     "execution_count": 90,
     "metadata": {},
     "output_type": "execute_result"
    }
   ],
   "source": [
    "G.add_vertex()"
   ]
  },
  {
   "cell_type": "code",
   "execution_count": 91,
   "id": "55ad2fe3",
   "metadata": {},
   "outputs": [
    {
     "ename": "TypeError",
     "evalue": "'NoneType' object is not subscriptable",
     "output_type": "error",
     "traceback": [
      "\u001b[0;31m---------------------------------------------------------------------------\u001b[0m",
      "\u001b[0;31mTypeError\u001b[0m                                 Traceback (most recent call last)",
      "Input \u001b[0;32mIn [91]\u001b[0m, in \u001b[0;36m<cell line: 1>\u001b[0;34m()\u001b[0m\n\u001b[0;32m----> 1\u001b[0m \u001b[43meditor\u001b[49m\u001b[38;5;241;43m.\u001b[39;49m\u001b[43mshow\u001b[49m\u001b[43m(\u001b[49m\u001b[43m)\u001b[49m\n",
      "File \u001b[0;32m~/Code/UNIVERSITY/OTIS/trunk/ii02105/task_03/src/lib.py:510\u001b[0m, in \u001b[0;36mGraphEditor.show\u001b[0;34m(self)\u001b[0m\n\u001b[1;32m    498\u001b[0m \u001b[38;5;28;01mdef\u001b[39;00m \u001b[38;5;21mshow\u001b[39m(\u001b[38;5;28mself\u001b[39m):\n\u001b[1;32m    499\u001b[0m     \u001b[38;5;124;03m\"\"\"\u001b[39;00m\n\u001b[1;32m    500\u001b[0m \u001b[38;5;124;03m    Return the editor widget.\u001b[39;00m\n\u001b[1;32m    501\u001b[0m \n\u001b[0;32m   (...)\u001b[0m\n\u001b[1;32m    508\u001b[0m \u001b[38;5;124;03m        <class 'ipywidgets.widgets.widget_box.HBox'>\u001b[39;00m\n\u001b[1;32m    509\u001b[0m \u001b[38;5;124;03m    \"\"\"\u001b[39;00m\n\u001b[0;32m--> 510\u001b[0m     \u001b[38;5;28;43mself\u001b[39;49m\u001b[38;5;241;43m.\u001b[39;49m\u001b[43mrefresh\u001b[49m\u001b[43m(\u001b[49m\u001b[43m)\u001b[49m\n\u001b[1;32m    511\u001b[0m     \u001b[38;5;28;01mreturn\u001b[39;00m \u001b[38;5;28mself\u001b[39m\u001b[38;5;241m.\u001b[39m_widget\n",
      "File \u001b[0;32m~/Code/UNIVERSITY/OTIS/trunk/ii02105/task_03/src/lib.py:1469\u001b[0m, in \u001b[0;36mGraphEditor.refresh\u001b[0;34m(self)\u001b[0m\n\u001b[1;32m   1467\u001b[0m \u001b[38;5;28mself\u001b[39m\u001b[38;5;241m.\u001b[39m_e_canvas\u001b[38;5;241m.\u001b[39mclear()\n\u001b[1;32m   1468\u001b[0m \u001b[38;5;28;01mfor\u001b[39;00m e \u001b[38;5;129;01min\u001b[39;00m \u001b[38;5;28mself\u001b[39m\u001b[38;5;241m.\u001b[39mgraph\u001b[38;5;241m.\u001b[39medge_iterator():\n\u001b[0;32m-> 1469\u001b[0m     \u001b[38;5;28;43mself\u001b[39;49m\u001b[38;5;241;43m.\u001b[39;49m\u001b[43m_draw_edge\u001b[49m\u001b[43m(\u001b[49m\u001b[43me\u001b[49m\u001b[43m)\u001b[49m\n\u001b[1;32m   1471\u001b[0m \u001b[38;5;28mself\u001b[39m\u001b[38;5;241m.\u001b[39m_v_canvas\u001b[38;5;241m.\u001b[39mclear()\n\u001b[1;32m   1472\u001b[0m \u001b[38;5;28;01mfor\u001b[39;00m v \u001b[38;5;129;01min\u001b[39;00m \u001b[38;5;28mself\u001b[39m\u001b[38;5;241m.\u001b[39mgraph\u001b[38;5;241m.\u001b[39mvertex_iterator():\n",
      "File \u001b[0;32m~/Code/UNIVERSITY/OTIS/trunk/ii02105/task_03/src/lib.py:1385\u001b[0m, in \u001b[0;36mGraphEditor._draw_edge\u001b[0;34m(self, e, clear_first, canvas)\u001b[0m\n\u001b[1;32m   1356\u001b[0m \u001b[38;5;124;03m\"\"\"\u001b[39;00m\n\u001b[1;32m   1357\u001b[0m \u001b[38;5;124;03mDraw an edge.\u001b[39;00m\n\u001b[1;32m   1358\u001b[0m \n\u001b[0;32m   (...)\u001b[0m\n\u001b[1;32m   1381\u001b[0m \u001b[38;5;124;03m    sage: ed._draw_edge((0,1,'label'))\u001b[39;00m\n\u001b[1;32m   1382\u001b[0m \u001b[38;5;124;03m\"\"\"\u001b[39;00m\n\u001b[1;32m   1384\u001b[0m u, v, \u001b[38;5;241m*\u001b[39m_ \u001b[38;5;241m=\u001b[39m e\n\u001b[0;32m-> 1385\u001b[0m pos_u \u001b[38;5;241m=\u001b[39m \u001b[38;5;28;43mself\u001b[39;49m\u001b[38;5;241;43m.\u001b[39;49m\u001b[43mget_vertex_pos\u001b[49m\u001b[43m(\u001b[49m\u001b[43mu\u001b[49m\u001b[43m)\u001b[49m\n\u001b[1;32m   1386\u001b[0m pos_v \u001b[38;5;241m=\u001b[39m \u001b[38;5;28mself\u001b[39m\u001b[38;5;241m.\u001b[39mget_vertex_pos(v)\n\u001b[1;32m   1388\u001b[0m \u001b[38;5;28;01mif\u001b[39;00m canvas \u001b[38;5;129;01mis\u001b[39;00m \u001b[38;5;28;01mNone\u001b[39;00m:\n",
      "File \u001b[0;32m~/Code/UNIVERSITY/OTIS/trunk/ii02105/task_03/src/lib.py:792\u001b[0m, in \u001b[0;36mGraphEditor.get_vertex_pos\u001b[0;34m(self, v)\u001b[0m\n\u001b[1;32m    779\u001b[0m \u001b[38;5;28;01mdef\u001b[39;00m \u001b[38;5;21mget_vertex_pos\u001b[39m(\u001b[38;5;28mself\u001b[39m, v):\n\u001b[1;32m    780\u001b[0m     \u001b[38;5;124;03m\"\"\"\u001b[39;00m\n\u001b[1;32m    781\u001b[0m \u001b[38;5;124;03m    Return the vertex coordinates.\u001b[39;00m\n\u001b[1;32m    782\u001b[0m \n\u001b[0;32m   (...)\u001b[0m\n\u001b[1;32m    790\u001b[0m \u001b[38;5;124;03m        True\u001b[39;00m\n\u001b[1;32m    791\u001b[0m \u001b[38;5;124;03m    \"\"\"\u001b[39;00m\n\u001b[0;32m--> 792\u001b[0m     x, y \u001b[38;5;241m=\u001b[39m \u001b[38;5;28;43mself\u001b[39;49m\u001b[38;5;241;43m.\u001b[39;49m\u001b[43mgraph\u001b[49m\u001b[38;5;241;43m.\u001b[39;49m\u001b[43mget_pos\u001b[49m\u001b[43m(\u001b[49m\u001b[43m)\u001b[49m\u001b[43m[\u001b[49m\u001b[43mv\u001b[49m\u001b[43m]\u001b[49m\n\u001b[1;32m    793\u001b[0m     \u001b[38;5;66;03m# -y because the y axis of the canvas goes downwards\u001b[39;00m\n\u001b[1;32m    794\u001b[0m     \u001b[38;5;28;01mreturn\u001b[39;00m x, \u001b[38;5;241m-\u001b[39my\n",
      "\u001b[0;31mTypeError\u001b[0m: 'NoneType' object is not subscriptable"
     ]
    }
   ],
   "source": [
    "editor.show()"
   ]
  },
  {
   "cell_type": "code",
   "execution_count": 104,
   "id": "7573ef15",
   "metadata": {
    "scrolled": true
   },
   "outputs": [
    {
     "data": {
      "application/vnd.jupyter.widget-view+json": {
       "model_id": "54ec0b6a759f4c5cbc4063a941d3c876",
       "version_major": 2,
       "version_minor": 0
      },
      "text/plain": [
       "HBox(children=(VBox(children=(MultiCanvas(height=400, layout=Layout(border='3px solid lightgrey', height='406p…"
      ]
     },
     "metadata": {},
     "output_type": "display_data"
    }
   ],
   "source": [
    "\n",
    "G = graphs.PetersenGraph()\n",
    "editor = GraphEditor(G)\n",
    "editor.show()"
   ]
  },
  {
   "cell_type": "code",
   "execution_count": 107,
   "id": "7388fa96",
   "metadata": {},
   "outputs": [],
   "source": [
    "G.add_vertex(11)"
   ]
  },
  {
   "cell_type": "code",
   "execution_count": 108,
   "id": "a6faf895",
   "metadata": {},
   "outputs": [
    {
     "ename": "TypeError",
     "evalue": "'NoneType' object is not subscriptable",
     "output_type": "error",
     "traceback": [
      "\u001b[0;31m---------------------------------------------------------------------------\u001b[0m",
      "\u001b[0;31mTypeError\u001b[0m                                 Traceback (most recent call last)",
      "Input \u001b[0;32mIn [108]\u001b[0m, in \u001b[0;36m<cell line: 1>\u001b[0;34m()\u001b[0m\n\u001b[0;32m----> 1\u001b[0m \u001b[43meditor\u001b[49m\u001b[38;5;241;43m.\u001b[39;49m\u001b[43mshow\u001b[49m\u001b[43m(\u001b[49m\u001b[43m)\u001b[49m\n",
      "File \u001b[0;32m~/Code/UNIVERSITY/OTIS/trunk/ii02105/task_03/src/lib.py:510\u001b[0m, in \u001b[0;36mGraphEditor.show\u001b[0;34m(self)\u001b[0m\n\u001b[1;32m    498\u001b[0m \u001b[38;5;28;01mdef\u001b[39;00m \u001b[38;5;21mshow\u001b[39m(\u001b[38;5;28mself\u001b[39m):\n\u001b[1;32m    499\u001b[0m     \u001b[38;5;124;03m\"\"\"\u001b[39;00m\n\u001b[1;32m    500\u001b[0m \u001b[38;5;124;03m    Return the editor widget.\u001b[39;00m\n\u001b[1;32m    501\u001b[0m \n\u001b[0;32m   (...)\u001b[0m\n\u001b[1;32m    508\u001b[0m \u001b[38;5;124;03m        <class 'ipywidgets.widgets.widget_box.HBox'>\u001b[39;00m\n\u001b[1;32m    509\u001b[0m \u001b[38;5;124;03m    \"\"\"\u001b[39;00m\n\u001b[0;32m--> 510\u001b[0m     \u001b[38;5;28;43mself\u001b[39;49m\u001b[38;5;241;43m.\u001b[39;49m\u001b[43mrefresh\u001b[49m\u001b[43m(\u001b[49m\u001b[43m)\u001b[49m\n\u001b[1;32m    511\u001b[0m     \u001b[38;5;28;01mreturn\u001b[39;00m \u001b[38;5;28mself\u001b[39m\u001b[38;5;241m.\u001b[39m_widget\n",
      "File \u001b[0;32m~/Code/UNIVERSITY/OTIS/trunk/ii02105/task_03/src/lib.py:1469\u001b[0m, in \u001b[0;36mGraphEditor.refresh\u001b[0;34m(self)\u001b[0m\n\u001b[1;32m   1467\u001b[0m \u001b[38;5;28mself\u001b[39m\u001b[38;5;241m.\u001b[39m_e_canvas\u001b[38;5;241m.\u001b[39mclear()\n\u001b[1;32m   1468\u001b[0m \u001b[38;5;28;01mfor\u001b[39;00m e \u001b[38;5;129;01min\u001b[39;00m \u001b[38;5;28mself\u001b[39m\u001b[38;5;241m.\u001b[39mgraph\u001b[38;5;241m.\u001b[39medge_iterator():\n\u001b[0;32m-> 1469\u001b[0m     \u001b[38;5;28;43mself\u001b[39;49m\u001b[38;5;241;43m.\u001b[39;49m\u001b[43m_draw_edge\u001b[49m\u001b[43m(\u001b[49m\u001b[43me\u001b[49m\u001b[43m)\u001b[49m\n\u001b[1;32m   1471\u001b[0m \u001b[38;5;28mself\u001b[39m\u001b[38;5;241m.\u001b[39m_v_canvas\u001b[38;5;241m.\u001b[39mclear()\n\u001b[1;32m   1472\u001b[0m \u001b[38;5;28;01mfor\u001b[39;00m v \u001b[38;5;129;01min\u001b[39;00m \u001b[38;5;28mself\u001b[39m\u001b[38;5;241m.\u001b[39mgraph\u001b[38;5;241m.\u001b[39mvertex_iterator():\n",
      "File \u001b[0;32m~/Code/UNIVERSITY/OTIS/trunk/ii02105/task_03/src/lib.py:1385\u001b[0m, in \u001b[0;36mGraphEditor._draw_edge\u001b[0;34m(self, e, clear_first, canvas)\u001b[0m\n\u001b[1;32m   1356\u001b[0m \u001b[38;5;124;03m\"\"\"\u001b[39;00m\n\u001b[1;32m   1357\u001b[0m \u001b[38;5;124;03mDraw an edge.\u001b[39;00m\n\u001b[1;32m   1358\u001b[0m \n\u001b[0;32m   (...)\u001b[0m\n\u001b[1;32m   1381\u001b[0m \u001b[38;5;124;03m    sage: ed._draw_edge((0,1,'label'))\u001b[39;00m\n\u001b[1;32m   1382\u001b[0m \u001b[38;5;124;03m\"\"\"\u001b[39;00m\n\u001b[1;32m   1384\u001b[0m u, v, \u001b[38;5;241m*\u001b[39m_ \u001b[38;5;241m=\u001b[39m e\n\u001b[0;32m-> 1385\u001b[0m pos_u \u001b[38;5;241m=\u001b[39m \u001b[38;5;28;43mself\u001b[39;49m\u001b[38;5;241;43m.\u001b[39;49m\u001b[43mget_vertex_pos\u001b[49m\u001b[43m(\u001b[49m\u001b[43mu\u001b[49m\u001b[43m)\u001b[49m\n\u001b[1;32m   1386\u001b[0m pos_v \u001b[38;5;241m=\u001b[39m \u001b[38;5;28mself\u001b[39m\u001b[38;5;241m.\u001b[39mget_vertex_pos(v)\n\u001b[1;32m   1388\u001b[0m \u001b[38;5;28;01mif\u001b[39;00m canvas \u001b[38;5;129;01mis\u001b[39;00m \u001b[38;5;28;01mNone\u001b[39;00m:\n",
      "File \u001b[0;32m~/Code/UNIVERSITY/OTIS/trunk/ii02105/task_03/src/lib.py:792\u001b[0m, in \u001b[0;36mGraphEditor.get_vertex_pos\u001b[0;34m(self, v)\u001b[0m\n\u001b[1;32m    779\u001b[0m \u001b[38;5;28;01mdef\u001b[39;00m \u001b[38;5;21mget_vertex_pos\u001b[39m(\u001b[38;5;28mself\u001b[39m, v):\n\u001b[1;32m    780\u001b[0m     \u001b[38;5;124;03m\"\"\"\u001b[39;00m\n\u001b[1;32m    781\u001b[0m \u001b[38;5;124;03m    Return the vertex coordinates.\u001b[39;00m\n\u001b[1;32m    782\u001b[0m \n\u001b[0;32m   (...)\u001b[0m\n\u001b[1;32m    790\u001b[0m \u001b[38;5;124;03m        True\u001b[39;00m\n\u001b[1;32m    791\u001b[0m \u001b[38;5;124;03m    \"\"\"\u001b[39;00m\n\u001b[0;32m--> 792\u001b[0m     x, y \u001b[38;5;241m=\u001b[39m \u001b[38;5;28;43mself\u001b[39;49m\u001b[38;5;241;43m.\u001b[39;49m\u001b[43mgraph\u001b[49m\u001b[38;5;241;43m.\u001b[39;49m\u001b[43mget_pos\u001b[49m\u001b[43m(\u001b[49m\u001b[43m)\u001b[49m\u001b[43m[\u001b[49m\u001b[43mv\u001b[49m\u001b[43m]\u001b[49m\n\u001b[1;32m    793\u001b[0m     \u001b[38;5;66;03m# -y because the y axis of the canvas goes downwards\u001b[39;00m\n\u001b[1;32m    794\u001b[0m     \u001b[38;5;28;01mreturn\u001b[39;00m x, \u001b[38;5;241m-\u001b[39my\n",
      "\u001b[0;31mTypeError\u001b[0m: 'NoneType' object is not subscriptable"
     ]
    }
   ],
   "source": [
    "editor.show()"
   ]
  },
  {
   "cell_type": "code",
   "execution_count": 23,
   "id": "f6ca95c0",
   "metadata": {
    "scrolled": false
   },
   "outputs": [
    {
     "ename": "NameError",
     "evalue": "name 'digraphs' is not defined",
     "output_type": "error",
     "traceback": [
      "\u001b[0;31m---------------------------------------------------------------------------\u001b[0m",
      "\u001b[0;31mNameError\u001b[0m                                 Traceback (most recent call last)",
      "Input \u001b[0;32mIn [23]\u001b[0m, in \u001b[0;36m<cell line: 1>\u001b[0;34m()\u001b[0m\n\u001b[0;32m----> 1\u001b[0m ed \u001b[38;5;241m=\u001b[39m GraphEditor(\u001b[43mdigraphs\u001b[49m\u001b[38;5;241m.\u001b[39mCircuit(\u001b[38;5;241m4\u001b[39m))\n\u001b[1;32m      2\u001b[0m ed\u001b[38;5;241m.\u001b[39mshow()\n",
      "\u001b[0;31mNameError\u001b[0m: name 'digraphs' is not defined"
     ]
    }
   ],
   "source": [
    "ed = GraphEditor(digraphs.Circuit(4))\n",
    "ed.show()"
   ]
  },
  {
   "cell_type": "code",
   "execution_count": null,
   "id": "970c2ca0",
   "metadata": {},
   "outputs": [],
   "source": []
  },
  {
   "cell_type": "code",
   "execution_count": 76,
   "id": "49fb4cb3",
   "metadata": {},
   "outputs": [],
   "source": [
    "'refresh',\n",
    " 'set_edge_color',\n",
    " 'set_vertex_color',\n",
    " 'set_vertex_pos',\n",
    " 'set_vertex_radius',\n",
    " 'set_vertices_pos\n",
    "    \n",
    "    get_edge_color',\n",
    " 'get_graph',\n",
    " 'get_vertex_color',\n",
    " 'get_vertex_label',\n",
    " 'get_vertex_pos',\n",
    " 'get_vertex_radius',\n",
    " 'get_vertices_pos\n",
    "    \n",
    "    \n",
    "    \n",
    "    \n",
    "    add_clique',\n",
    " 'add_cycle',\n",
    " 'add_edge',\n",
    " 'add_edges',\n",
    " 'add_path',\n",
    " 'add_vertex',\n",
    " 'add_vertices\n",
    "clear\n",
    "copy\n",
    " 'delete_edge',\n",
    " 'delete_edges',\n",
    " 'delete_multiedge',\n",
    " 'delete_vertex',\n",
    " 'delete_vertices\n",
    "    name\n",
    "    'rename',\n",
    " 'reset_name',\n",
    " 'save',\n",
    "    \n",
    "    'set_edge_label',\n",
    " 'set_embedding',\n",
    " 'set_latex_options',\n",
    " 'set_pos',\n",
    " 'set_vertex',\n",
    " 'set_vertices',"
   ]
  },
  {
   "cell_type": "code",
   "execution_count": null,
   "id": "6014c0e2",
   "metadata": {},
   "outputs": [],
   "source": [
    "G."
   ]
  },
  {
   "cell_type": "code",
   "execution_count": 66,
   "id": "32967a13",
   "metadata": {},
   "outputs": [],
   "source": [
    "def func_button(name):\n",
    "    return Button(\n",
    "        description=name,\n",
    "        disabled=False,\n",
    "        button_style='',\n",
    "        tooltip=name,\n",
    "        icon=''\n",
    "    )\n",
    "\n",
    "\n",
    "num_verts = func_button(\"num_verts\")\n",
    "num_verts.on_click(lambda x: print(G.num_verts()))\n",
    "\n",
    "num_edges = func_button(\"num_edges\")\n",
    "num_edges.on_click(lambda x: print(G.num_edges()))\n",
    "\n",
    "degree = func_button(\"degree\")\n",
    "degree.on_click(lambda x: print(G.degree()))\n",
    "\n",
    "degree_one = func_button(\"degree(select one vertice)\")\n",
    "degree_one.on_click(lambda x: print(G.degree(*editor._selected_vertices)))\n",
    "\n",
    "incidence_matrix = func_button(\"incidence_matrix\")\n",
    "incidence_matrix.on_click(lambda x: print(G.incidence_matrix()))\n",
    "\n",
    "adjacency_matrix = func_button(\"adjacency_matrix\")\n",
    "adjacency_matrix.on_click(lambda x: print(G.adjacency_matrix()))\n",
    "\n",
    "is_tree = func_button(\"is_tree\")\n",
    "is_tree.on_click(lambda x: print(G.is_tree()))\n",
    "\n",
    "is_self_complementary = func_button(\"is_self_complementary\")\n",
    "is_self_complementary.on_click(lambda x: print(G.is_self_complementary()))\n",
    "\n",
    "is_connected = func_button(\"is_connected\")\n",
    "is_connected.on_click(lambda x: print(G.is_connected()))\n",
    "\n",
    "is_eulerian = func_button(\"is_eulerian\")\n",
    "is_eulerian.on_click(lambda x: print(G.is_eulerian()))\n",
    "                                          \n",
    "is_hamiltonian = func_button(\"is_hamiltonian\")\n",
    "is_hamiltonian.on_click(lambda x: print(G.is_hamiltonian()))\n",
    "                                          \n",
    "is_planar = func_button(\"is_planar\")\n",
    "is_planar.on_click(lambda x: print(G.is_planar()))\n",
    "                                          \n",
    "all_paths = func_button(\"all_paths (select two vertice)\")\n",
    "all_paths.on_click(lambda x: print(G.all_paths(*editor._selected_vertices)))\n",
    "                                          \n",
    "shortest_path = func_button(\"shortest_path (select two vertice)\")\n",
    "shortest_path.on_click(lambda x: print(G.shortest_path(*editor._selected_vertices)))\n",
    "                                          \n",
    "distance = func_button(\"distance (select two vertice)\")\n",
    "distance.on_click(lambda x: print(G.distance(*editor._selected_vertices)))\n",
    "\n",
    "diameter = func_button(\"diameter\")\n",
    "diameter.on_click(lambda x: print(G.diameter()))\n",
    "\n",
    "radius = func_button(\"radius\")\n",
    "radius.on_click(lambda x: print(G.radius()))\n",
    "\n",
    "center = func_button(\"center\")\n",
    "center.on_click(lambda x: print(G.center()))\n",
    "\n",
    "def eulerian_cycle_func(self):\n",
    "        if not self.is_connected():\n",
    "            return \"no cycle\"\n",
    "        for i in range(self.num_verts()):\n",
    "            if self.degree(i) % 2:\n",
    "                return \"no cycle\"\n",
    "        cycle = [0]\n",
    "        visited = [False for i in range(self.num_verts())]\n",
    "        visited[0] = True\n",
    "        while len(cycle) < self.num_edges():\n",
    "            for i in range(self.num_verts()):\n",
    "                if self.adjacency_matrix()[cycle[-1]][i] and not visited[i]:\n",
    "                    cycle.append(i)\n",
    "                    visited[i] = True\n",
    "                    break\n",
    "            else:\n",
    "                return None\n",
    "        return cycle\n",
    "                                          \n",
    "eulerian_cycle = func_button(\"eulerian_cycle\")\n",
    "eulerian_cycle.on_click(lambda x: print(eulerian_cycle_func(G)))\n",
    "\n",
    "buttons_array = [num_verts, num_edges, degree, degree_one, incidence_matrix, adjacency_matrix, \\\n",
    "                 is_tree, is_self_complementary, is_connected, is_eulerian, is_hamiltonian, \\\n",
    "                is_planar, all_paths, shortest_path, distance, diameter, radius, center, eulerian_cycle]"
   ]
  },
  {
   "cell_type": "code",
   "execution_count": 67,
   "id": "b70ac5be",
   "metadata": {},
   "outputs": [],
   "source": [
    "buttons = VBox([HBox(buttons_array[i:i + 3],\n",
    "    layout=Layout(margin=\"1px 2px \")) for i in range(0, 19, 3)])"
   ]
  },
  {
   "cell_type": "code",
   "execution_count": 68,
   "id": "0a20757b",
   "metadata": {},
   "outputs": [
    {
     "data": {
      "application/vnd.jupyter.widget-view+json": {
       "model_id": "8d4e8efee97646ff985f8eb5dc0d4724",
       "version_major": 2,
       "version_minor": 0
      },
      "text/plain": [
       "VBox(children=(HBox(children=(Button(description='num_verts', style=ButtonStyle(), tooltip='num_verts'), Butto…"
      ]
     },
     "metadata": {},
     "output_type": "display_data"
    },
    {
     "name": "stdout",
     "output_type": "stream",
     "text": [
      "no cycle\n",
      "2\n",
      "2\n",
      "[0, 1, 2, 3, 4, 5, 6, 7, 8, 9]\n",
      "False\n",
      "False\n",
      "False\n",
      "False\n",
      "False\n",
      "True\n",
      "[0 1 0 0 1 1 0 0 0 0]\n",
      "[1 0 1 0 0 0 1 0 0 0]\n",
      "[0 1 0 1 0 0 0 1 0 0]\n",
      "[0 0 1 0 1 0 0 0 1 0]\n",
      "[1 0 0 1 0 0 0 0 0 1]\n",
      "[1 0 0 0 0 0 0 1 1 0]\n",
      "[0 1 0 0 0 0 0 0 1 1]\n",
      "[0 0 1 0 0 1 0 0 0 1]\n",
      "[0 0 0 1 0 1 1 0 0 0]\n",
      "[0 0 0 0 1 0 1 1 0 0]\n",
      "[1 1 1 0 0 0 0 0 0 0 0 0 0 0 0]\n",
      "[1 0 0 1 1 0 0 0 0 0 0 0 0 0 0]\n",
      "[0 0 0 1 0 1 1 0 0 0 0 0 0 0 0]\n",
      "[0 0 0 0 0 1 0 1 1 0 0 0 0 0 0]\n",
      "[0 1 0 0 0 0 0 1 0 1 0 0 0 0 0]\n",
      "[0 0 1 0 0 0 0 0 0 0 1 1 0 0 0]\n",
      "[0 0 0 0 1 0 0 0 0 0 0 0 1 1 0]\n",
      "[0 0 0 0 0 0 1 0 0 0 1 0 0 0 1]\n",
      "[0 0 0 0 0 0 0 0 1 0 0 1 1 0 0]\n",
      "[0 0 0 0 0 0 0 0 0 1 0 0 0 1 1]\n",
      "3\n",
      "[3, 3, 3, 3, 3, 3, 3, 3, 3, 3]\n",
      "15\n",
      "10\n"
     ]
    }
   ],
   "source": [
    "buttons"
   ]
  },
  {
   "cell_type": "code",
   "execution_count": 70,
   "id": "fa7b195d",
   "metadata": {},
   "outputs": [],
   "source": [
    "from alg_button_lib import alg_buttons"
   ]
  },
  {
   "cell_type": "code",
   "execution_count": 71,
   "id": "d11a17a3",
   "metadata": {},
   "outputs": [],
   "source": [
    "button = alg_buttons(editor, G)"
   ]
  },
  {
   "cell_type": "code",
   "execution_count": 72,
   "id": "b7872267",
   "metadata": {},
   "outputs": [
    {
     "data": {
      "application/vnd.jupyter.widget-view+json": {
       "model_id": "963e8d7a6f8f40e28da593f0cadc7498",
       "version_major": 2,
       "version_minor": 0
      },
      "text/plain": [
       "VBox(children=(HBox(children=(Button(description='num_verts', style=ButtonStyle(), tooltip='num_verts'), Butto…"
      ]
     },
     "metadata": {},
     "output_type": "display_data"
    },
    {
     "name": "stdout",
     "output_type": "stream",
     "text": [
      "10\n",
      "no cycle\n",
      "2\n",
      "[3, 3, 3, 3, 3, 3, 3, 3, 3, 3]\n"
     ]
    },
    {
     "ename": "TypeError",
     "evalue": "GenericGraph.shortest_path() missing 2 required positional arguments: 'u' and 'v'",
     "output_type": "error",
     "traceback": [
      "\u001b[0;31m---------------------------------------------------------------------------\u001b[0m",
      "\u001b[0;31mTypeError\u001b[0m                                 Traceback (most recent call last)",
      "File \u001b[0;32m~/Code/UNIVERSITY/OTIS/trunk/ii02105/task_03/src/alg_button_lib.py:57\u001b[0m, in \u001b[0;36malg_buttons.<locals>.<lambda>\u001b[0;34m(x)\u001b[0m\n\u001b[1;32m     54\u001b[0m all_paths\u001b[38;5;241m.\u001b[39mon_click(\u001b[38;5;28;01mlambda\u001b[39;00m x: \u001b[38;5;28mprint\u001b[39m(G\u001b[38;5;241m.\u001b[39mall_paths(\u001b[38;5;241m*\u001b[39meditor\u001b[38;5;241m.\u001b[39m_selected_vertices)))\n\u001b[1;32m     56\u001b[0m shortest_path \u001b[38;5;241m=\u001b[39m func_button(\u001b[38;5;124m\"\u001b[39m\u001b[38;5;124mshortest_path (select two vertice)\u001b[39m\u001b[38;5;124m\"\u001b[39m)\n\u001b[0;32m---> 57\u001b[0m shortest_path\u001b[38;5;241m.\u001b[39mon_click(\u001b[38;5;28;01mlambda\u001b[39;00m x: \u001b[38;5;28mprint\u001b[39m(\u001b[43mG\u001b[49m\u001b[38;5;241;43m.\u001b[39;49m\u001b[43mshortest_path\u001b[49m\u001b[43m(\u001b[49m\u001b[38;5;241;43m*\u001b[39;49m\u001b[43meditor\u001b[49m\u001b[38;5;241;43m.\u001b[39;49m\u001b[43m_selected_vertices\u001b[49m\u001b[43m)\u001b[49m))\n\u001b[1;32m     59\u001b[0m distance \u001b[38;5;241m=\u001b[39m func_button(\u001b[38;5;124m\"\u001b[39m\u001b[38;5;124mdistance (select two vertice)\u001b[39m\u001b[38;5;124m\"\u001b[39m)\n\u001b[1;32m     60\u001b[0m distance\u001b[38;5;241m.\u001b[39mon_click(\u001b[38;5;28;01mlambda\u001b[39;00m x: \u001b[38;5;28mprint\u001b[39m(G\u001b[38;5;241m.\u001b[39mdistance(\u001b[38;5;241m*\u001b[39meditor\u001b[38;5;241m.\u001b[39m_selected_vertices)))\n",
      "\u001b[0;31mTypeError\u001b[0m: GenericGraph.shortest_path() missing 2 required positional arguments: 'u' and 'v'"
     ]
    },
    {
     "ename": "TypeError",
     "evalue": "GenericGraph.distance() missing 2 required positional arguments: 'u' and 'v'",
     "output_type": "error",
     "traceback": [
      "\u001b[0;31m---------------------------------------------------------------------------\u001b[0m",
      "\u001b[0;31mTypeError\u001b[0m                                 Traceback (most recent call last)",
      "File \u001b[0;32m~/Code/UNIVERSITY/OTIS/trunk/ii02105/task_03/src/alg_button_lib.py:60\u001b[0m, in \u001b[0;36malg_buttons.<locals>.<lambda>\u001b[0;34m(x)\u001b[0m\n\u001b[1;32m     57\u001b[0m shortest_path\u001b[38;5;241m.\u001b[39mon_click(\u001b[38;5;28;01mlambda\u001b[39;00m x: \u001b[38;5;28mprint\u001b[39m(G\u001b[38;5;241m.\u001b[39mshortest_path(\u001b[38;5;241m*\u001b[39meditor\u001b[38;5;241m.\u001b[39m_selected_vertices)))\n\u001b[1;32m     59\u001b[0m distance \u001b[38;5;241m=\u001b[39m func_button(\u001b[38;5;124m\"\u001b[39m\u001b[38;5;124mdistance (select two vertice)\u001b[39m\u001b[38;5;124m\"\u001b[39m)\n\u001b[0;32m---> 60\u001b[0m distance\u001b[38;5;241m.\u001b[39mon_click(\u001b[38;5;28;01mlambda\u001b[39;00m x: \u001b[38;5;28mprint\u001b[39m(\u001b[43mG\u001b[49m\u001b[38;5;241;43m.\u001b[39;49m\u001b[43mdistance\u001b[49m\u001b[43m(\u001b[49m\u001b[38;5;241;43m*\u001b[39;49m\u001b[43meditor\u001b[49m\u001b[38;5;241;43m.\u001b[39;49m\u001b[43m_selected_vertices\u001b[49m\u001b[43m)\u001b[49m))\n\u001b[1;32m     62\u001b[0m diameter \u001b[38;5;241m=\u001b[39m func_button(\u001b[38;5;124m\"\u001b[39m\u001b[38;5;124mdiameter\u001b[39m\u001b[38;5;124m\"\u001b[39m)\n\u001b[1;32m     63\u001b[0m diameter\u001b[38;5;241m.\u001b[39mon_click(\u001b[38;5;28;01mlambda\u001b[39;00m x: \u001b[38;5;28mprint\u001b[39m(G\u001b[38;5;241m.\u001b[39mdiameter()))\n",
      "\u001b[0;31mTypeError\u001b[0m: GenericGraph.distance() missing 2 required positional arguments: 'u' and 'v'"
     ]
    },
    {
     "name": "stdout",
     "output_type": "stream",
     "text": [
      "False\n",
      "2\n",
      "[0, 1, 2, 3, 4, 5, 6, 7, 8, 9]\n",
      "no cycle\n",
      "[3, 3, 3, 3, 3, 3, 3, 3, 3, 3]\n",
      "[1 1 1 0 0 0 0 0 0 0 0 0 0 0 0]\n",
      "[1 0 0 1 1 0 0 0 0 0 0 0 0 0 0]\n",
      "[0 0 0 1 0 1 1 0 0 0 0 0 0 0 0]\n",
      "[0 0 0 0 0 1 0 1 1 0 0 0 0 0 0]\n",
      "[0 1 0 0 0 0 0 1 0 1 0 0 0 0 0]\n",
      "[0 0 1 0 0 0 0 0 0 0 1 1 0 0 0]\n",
      "[0 0 0 0 1 0 0 0 0 0 0 0 1 1 0]\n",
      "[0 0 0 0 0 0 1 0 0 0 1 0 0 0 1]\n",
      "[0 0 0 0 0 0 0 0 1 0 0 1 1 0 0]\n",
      "[0 0 0 0 0 0 0 0 0 1 0 0 0 1 1]\n",
      "[0 1 0 0 1 1 0 0 0 0]\n",
      "[1 0 1 0 0 0 1 0 0 0]\n",
      "[0 1 0 1 0 0 0 1 0 0]\n",
      "[0 0 1 0 1 0 0 0 1 0]\n",
      "[1 0 0 1 0 0 0 0 0 1]\n",
      "[1 0 0 0 0 0 0 1 1 0]\n",
      "[0 1 0 0 0 0 0 0 1 1]\n",
      "[0 0 1 0 0 1 0 0 0 1]\n",
      "[0 0 0 1 0 1 1 0 0 0]\n",
      "[0 0 0 0 1 0 1 1 0 0]\n"
     ]
    }
   ],
   "source": [
    "button"
   ]
  },
  {
   "cell_type": "code",
   "execution_count": 187,
   "id": "086752c1",
   "metadata": {},
   "outputs": [
    {
     "data": {
      "application/vnd.jupyter.widget-view+json": {
       "model_id": "d6ac4e59ba9d4308adabac26ba04c01b",
       "version_major": 2,
       "version_minor": 0
      },
      "text/plain": [
       "HBox(children=(VBox(children=(MultiCanvas(height=400, image_data=b'\\x89PNG\\r\\n\\x1a\\n\\x00\\x00\\x00\\rIHDR\\x00\\x00…"
      ]
     },
     "metadata": {},
     "output_type": "display_data"
    }
   ],
   "source": [
    "G.coloring()\n",
    "editor2.show()"
   ]
  },
  {
   "cell_type": "code",
   "execution_count": 188,
   "id": "35d03051",
   "metadata": {},
   "outputs": [
    {
     "data": {
      "text/plain": [
       "Petersen graph: Graph on 10 vertices"
      ]
     },
     "execution_count": 188,
     "metadata": {},
     "output_type": "execute_result"
    }
   ],
   "source": [
    "editor2.graph"
   ]
  },
  {
   "cell_type": "code",
   "execution_count": 189,
   "id": "1ef6525c",
   "metadata": {},
   "outputs": [
    {
     "data": {
      "text/plain": [
       "True"
      ]
     },
     "execution_count": 189,
     "metadata": {},
     "output_type": "execute_result"
    }
   ],
   "source": [
    "editor2.graph is G"
   ]
  },
  {
   "cell_type": "code",
   "execution_count": 190,
   "id": "50683934",
   "metadata": {},
   "outputs": [
    {
     "data": {
      "text/plain": [
       "True"
      ]
     },
     "execution_count": 190,
     "metadata": {},
     "output_type": "execute_result"
    }
   ],
   "source": [
    "H = editor2.get_graph()\n",
    "H == G and not H is G"
   ]
  },
  {
   "cell_type": "code",
   "execution_count": 191,
   "id": "688cc623",
   "metadata": {},
   "outputs": [
    {
     "data": {
      "application/vnd.jupyter.widget-view+json": {
       "model_id": "523ad989626a473493b10f97d69c75c1",
       "version_major": 2,
       "version_minor": 0
      },
      "text/plain": [
       "HBox(children=(VBox(children=(MultiCanvas(height=300, layout=Layout(border='3px solid lightgrey', height='306p…"
      ]
     },
     "metadata": {},
     "output_type": "display_data"
    }
   ],
   "source": [
    "editor3 = GraphEditor(graphs.PetersenGraph(), width=300, height=300, default_radius=12, default_vertex_color='orange', default_edge_color='#666', show_vertex_labels=False)\n",
    "editor3.show()"
   ]
  },
  {
   "cell_type": "code",
   "execution_count": 194,
   "id": "11948dfa",
   "metadata": {},
   "outputs": [
    {
     "data": {
      "application/vnd.jupyter.widget-view+json": {
       "model_id": "e84d6f199faa4ac49c05d7672e01389e",
       "version_major": 2,
       "version_minor": 0
      },
      "text/plain": [
       "HBox(children=(VBox(children=(MultiCanvas(layout=Layout(border='3px solid lightgrey', height='506px', overflow…"
      ]
     },
     "metadata": {},
     "output_type": "display_data"
    }
   ],
   "source": [
    "K = graphs.RandomBipartite(10,10,1)\n",
    "editor4 = GraphEditor(K, width = 500, height = 500)\n",
    "G.coloring()\n",
    "editor4.show()"
   ]
  },
  {
   "cell_type": "code",
   "execution_count": 195,
   "id": "e70812eb",
   "metadata": {},
   "outputs": [],
   "source": [
    "for v in editor4.graph:\n",
    "    p, i = v\n",
    "    \n",
    "    editor4.set_vertex_radius(v, 3 * i + 25)\n",
    "    if p:\n",
    "        editor4.set_vertex_pos(v, 100, 50 +  100 * i)\n",
    "        # editor4.set_vertex_color(v, 'red')\n",
    "    else:\n",
    "        editor4.set_vertex_pos(v, 400, 50 + 100 * i)\n",
    "        #editor4.set_vertex_color(v, 'lightblue')\n",
    "    \n",
    "editor4.refresh() "
   ]
  },
  {
   "cell_type": "code",
   "execution_count": 196,
   "id": "58b5d5e2",
   "metadata": {},
   "outputs": [],
   "source": [
    "def label(v):\n",
    "    p, i = v\n",
    "    return ('left ' if p else 'right ') + str(i)\n",
    "\n",
    "editor4.get_vertex_label = label\n",
    "editor4.refresh()"
   ]
  },
  {
   "cell_type": "code",
   "execution_count": 197,
   "id": "bac8b562",
   "metadata": {},
   "outputs": [
    {
     "data": {
      "application/vnd.jupyter.widget-view+json": {
       "model_id": "df0b97064d4a416f90a702f374bb0026",
       "version_major": 2,
       "version_minor": 0
      },
      "text/plain": [
       "HBox(children=(VBox(children=(MultiCanvas(height=400, layout=Layout(border='3px solid lightgrey', height='406p…"
      ]
     },
     "metadata": {},
     "output_type": "display_data"
    }
   ],
   "source": [
    "n = 10\n",
    "g = graphs.GridGraph([n,n])\n",
    "for _ in range(5*n):\n",
    "    e = g.random_edge()\n",
    "    g.delete_edge(e)\n",
    "    if not g.is_connected():\n",
    "        g.add_edge(e)\n",
    "    \n",
    "editor5 = GraphEditor(g, default_radius=10, default_vertex_color='white', show_vertex_labels=False)\n",
    "editor5.show()"
   ]
  },
  {
   "cell_type": "code",
   "execution_count": 198,
   "id": "90502e4a",
   "metadata": {},
   "outputs": [],
   "source": [
    "def col(i, n):\n",
    "    # Return a color depending on i\n",
    "    rgbv = int(i * 255 / n)\n",
    "    return '#%02x%02x%02x' % (100, rgbv , 255 - rgbv)\n",
    "\n",
    "source = (3, 1)\n",
    "distances = {v:g.distance(source, v) for v in g}\n",
    "# maximum distance to (x,y) in the graph\n",
    "max_dist = max(distances.values())\n",
    "\n",
    "for v in g:\n",
    "    d = distances[v]\n",
    "    editor5.set_vertex_color(v, col(d, max_dist))\n",
    "editor5.refresh()"
   ]
  },
  {
   "cell_type": "code",
   "execution_count": 199,
   "id": "3999791e",
   "metadata": {},
   "outputs": [],
   "source": [
    "def conjecture(G):\n",
    "    return not G.is_vertex_transitive() or G.is_hamiltonian()"
   ]
  },
  {
   "cell_type": "code",
   "execution_count": 200,
   "id": "74c13c80",
   "metadata": {},
   "outputs": [
    {
     "data": {
      "text/plain": [
       "False"
      ]
     },
     "execution_count": 200,
     "metadata": {},
     "output_type": "execute_result"
    }
   ],
   "source": [
    "conjecture(editor2.get_graph())"
   ]
  },
  {
   "cell_type": "code",
   "execution_count": 16,
   "id": "0f031b6f",
   "metadata": {},
   "outputs": [
    {
     "ename": "NameError",
     "evalue": "name 'latex' is not defined",
     "output_type": "error",
     "traceback": [
      "\u001b[0;31m---------------------------------------------------------------------------\u001b[0m",
      "\u001b[0;31mNameError\u001b[0m                                 Traceback (most recent call last)",
      "Input \u001b[0;32mIn [16]\u001b[0m, in \u001b[0;36m<cell line: 1>\u001b[0;34m()\u001b[0m\n\u001b[0;32m----> 1\u001b[0m \u001b[43mlatex\u001b[49m(editor2\u001b[38;5;241m.\u001b[39mgraph)\n",
      "\u001b[0;31mNameError\u001b[0m: name 'latex' is not defined"
     ]
    }
   ],
   "source": [
    "latex(editor2.graph)"
   ]
  },
  {
   "cell_type": "code",
   "execution_count": 203,
   "id": "4edf876b",
   "metadata": {},
   "outputs": [
    {
     "ename": "NameError",
     "evalue": "name 'view' is not defined",
     "output_type": "error",
     "traceback": [
      "\u001b[0;31m---------------------------------------------------------------------------\u001b[0m",
      "\u001b[0;31mNameError\u001b[0m                                 Traceback (most recent call last)",
      "Input \u001b[0;32mIn [203]\u001b[0m, in \u001b[0;36m<cell line: 1>\u001b[0;34m()\u001b[0m\n\u001b[0;32m----> 1\u001b[0m \u001b[43mview\u001b[49m(editor2\u001b[38;5;241m.\u001b[39mgraph)\n",
      "\u001b[0;31mNameError\u001b[0m: name 'view' is not defined"
     ]
    }
   ],
   "source": [
    "view(editor2.graph)"
   ]
  },
  {
   "cell_type": "code",
   "execution_count": 12,
   "id": "12b30c73",
   "metadata": {},
   "outputs": [],
   "source": [
    "def step_by_step_dijkstra(w, source):\n",
    "    # Dijkstra's algorithm + some 'yield' statements to pause the algorithm at interesting times\n",
    "    # and changes of colors of the graph edges and vertices.\n",
    "    # Adapted from https://en.wikipedia.org/wiki/Dijkstra%27s_algorithm#Pseudocode\n",
    "\n",
    "    G = w.graph\n",
    "    Q = G.vertices()\n",
    "    prev = {v: None for v in G}\n",
    "    # We store distances in the widget, so that they can be accessed by the function\n",
    "    # that returns vertex labels\n",
    "    w.dist = {v: '?' for v in G}\n",
    "    w.dist[source] = 0\n",
    "    w.maxdist = 0\n",
    "    \n",
    "    while Q:\n",
    "        u = Q[0]\n",
    "        \n",
    "        for v in Q:\n",
    "            if w.dist[v] == '?':\n",
    "                continue\n",
    "            if w.dist[u] == '?' or w.dist[v] < w.dist[u]:\n",
    "                u = v\n",
    "        Q.remove(u)\n",
    "        w._select_vertex(u, redraw=True)\n",
    "        # Here the `yield` statement is not used to return anything interesting, but\n",
    "        # instead to pause the algorithm until the user decides to run the next step\n",
    "        yield\n",
    "        \n",
    "        for v in G.neighbor_iterator(u):\n",
    "            if v not in Q:\n",
    "                continue\n",
    "            alt = w.dist[u] + G.edge_label(u,v)\n",
    "            if w.dist[v] == '?' or alt < w.dist[v]:\n",
    "                # update\n",
    "                if prev[v] is not None:\n",
    "                    # A shortcut has been found!\n",
    "                    w.set_edge_color((v, prev[v]), 'cyan')\n",
    "                \n",
    "                w.dist[v] = alt\n",
    "                w.maxdist = max(w.maxdist, alt)\n",
    "                prev[v] = u\n",
    "                w.set_edge_color((u,v), 'orange')\n",
    "            else:\n",
    "                w.set_edge_color((u,v), 'lightgray')\n",
    "            w.refresh()\n",
    "            yield\n",
    "        w._select_vertex(u, redraw=True) # unselect\n",
    "        w.done[u] = True\n",
    "        w.refresh()"
   ]
  },
  {
   "cell_type": "code",
   "execution_count": 15,
   "id": "49127140",
   "metadata": {},
   "outputs": [],
   "source": [
    "from ipywidgets import Button\n",
    "\n",
    "g = graphs.GridGraph([5,5])\n",
    "# Give random distances to edges\n",
    "for u,v in g.edge_iterator(labels=False):\n",
    "    g.set_edge_label(u,v, randint(0,50))\n",
    "\n",
    "editor6 = GraphEditor(g, default_radius=20, default_vertex_color='white')\n",
    "editor6.dist = {v: '?' for v in editor6.graph}\n",
    "editor6.done = {v : False  for v in editor6.graph}\n",
    "\n",
    "editor6.get_vertex_label = lambda v: str(editor6.dist[v])\n",
    "\n",
    "def color_label(w, v):\n",
    "    if w.get_vertex_label(v) == '?':\n",
    "        return 'lightpink'\n",
    "    d = w.dist[v]\n",
    "    maxd = w.maxdist\n",
    "    if maxd:\n",
    "        rgbv = int(d * 150/ maxd)\n",
    "        if w.done[v]:\n",
    "            return '#%02x%02x%02x' % (0, 255 - rgbv , 0)\n",
    "        else:\n",
    "            return '#%02x%02x%02x' % (255 - rgbv, 255 - rgbv , 255 - rgbv)\n",
    "    else:\n",
    "        return 'white'\n",
    "\n",
    "# Redefine the function that assigns colors to vertices, to\n",
    "# color them according to their status (discovered, processed or undiscovered)\n",
    "# and their distance from the source\n",
    "editor6.get_vertex_color = lambda v: color_label(editor6, v)\n",
    "\n",
    "# Define a button widget to trigger the run of each step of the algorithm\n",
    "button = Button(\n",
    "    description='Next step',\n",
    "    disabled=False,\n",
    "    button_style='',\n",
    "    tooltip='next step',\n",
    "    icon='forward'\n",
    ")\n",
    "\n",
    "def button_clbk(b, generator):\n",
    "    '''Callback for the button b'''\n",
    "    try:\n",
    "        next(generator)\n",
    "    except StopIteration:\n",
    "        # Once the computation is done we disable the button\n",
    "        b.disabled = True\n",
    "\n",
    "gen = step_by_step_dijkstra(editor6, editor6.graph.random_vertex())\n",
    "        \n",
    "# tie the button to button_clbk\n",
    "button.on_click(lambda b: button_clbk(b, gen))"
   ]
  },
  {
   "cell_type": "code",
   "execution_count": 16,
   "id": "2fe71ac3",
   "metadata": {},
   "outputs": [
    {
     "data": {
      "application/vnd.jupyter.widget-view+json": {
       "model_id": "d86144b777b0497686eb6060b0ad202c",
       "version_major": 2,
       "version_minor": 0
      },
      "text/plain": [
       "HBox(children=(VBox(children=(MultiCanvas(height=400, image_data=b'\\x89PNG\\r\\n\\x1a\\n\\x00\\x00\\x00\\rIHDR\\x00\\x00…"
      ]
     },
     "metadata": {},
     "output_type": "display_data"
    }
   ],
   "source": [
    "editor6.show()"
   ]
  },
  {
   "cell_type": "code",
   "execution_count": 7,
   "id": "8565061a",
   "metadata": {},
   "outputs": [
    {
     "data": {
      "application/vnd.jupyter.widget-view+json": {
       "model_id": "5b041d6a82ed489babc3df0400fae792",
       "version_major": 2,
       "version_minor": 0
      },
      "text/plain": [
       "HBox(children=(VBox(children=(MultiCanvas(height=400, layout=Layout(border='3px solid lightgrey', height='406p…"
      ]
     },
     "metadata": {},
     "output_type": "display_data"
    }
   ],
   "source": [
    "g = graphs.GridGraph([5,5])\n",
    "# Give random distances to edges\n",
    "\n",
    "\n",
    "editor6 = GraphEditor(g, default_radius=20, default_vertex_color='white')\n",
    "\n",
    "editor6.show()"
   ]
  },
  {
   "cell_type": "code",
   "execution_count": 49,
   "id": "f1569ba7",
   "metadata": {},
   "outputs": [
    {
     "name": "stdout",
     "output_type": "stream",
     "text": [
      "(1, 2)\n",
      "?\n"
     ]
    }
   ],
   "source": [
    "editor6.dist = {v: '?' for v in editor6.graph}\n",
    "print(list(editor6._selected_vertices)[0])\n",
    "print(editor6.dist[(0,1)])\n",
    "editor6.dist[list(editor6._selected_vertices)[0]] = \"&\"\n",
    "#editor6.get_vertex_label = lambda v: str(editor6.dist[v])\n",
    "editor6.refresh()"
   ]
  },
  {
   "cell_type": "code",
   "execution_count": 47,
   "id": "67696f89",
   "metadata": {},
   "outputs": [
    {
     "data": {
      "text/plain": [
       "'?'"
      ]
     },
     "execution_count": 47,
     "metadata": {},
     "output_type": "execute_result"
    }
   ],
   "source": [
    "editor6.get_vertex_label((0,1))"
   ]
  },
  {
   "cell_type": "code",
   "execution_count": 17,
   "id": "eb57a18a",
   "metadata": {},
   "outputs": [],
   "source": [
    "g.set_edge_label((0,0),(0,1), 100)\n",
    "editor6.refresh()"
   ]
  },
  {
   "cell_type": "code",
   "execution_count": 18,
   "id": "b45a212a",
   "metadata": {},
   "outputs": [
    {
     "ename": "AttributeError",
     "evalue": "'GraphEditor' object has no attribute 'graphs'",
     "output_type": "error",
     "traceback": [
      "\u001b[0;31m---------------------------------------------------------------------------\u001b[0m",
      "\u001b[0;31mAttributeError\u001b[0m                            Traceback (most recent call last)",
      "Input \u001b[0;32mIn [18]\u001b[0m, in \u001b[0;36m<cell line: 1>\u001b[0;34m()\u001b[0m\n\u001b[0;32m----> 1\u001b[0m \u001b[43meditor6\u001b[49m\u001b[38;5;241;43m.\u001b[39;49m\u001b[43mgraphs\u001b[49m\n",
      "\u001b[0;31mAttributeError\u001b[0m: 'GraphEditor' object has no attribute 'graphs'"
     ]
    }
   ],
   "source": [
    "graphs."
   ]
  },
  {
   "cell_type": "code",
   "execution_count": 28,
   "id": "dcb9ae80",
   "metadata": {},
   "outputs": [
    {
     "name": "stdout",
     "output_type": "stream",
     "text": [
      "(0, 0) (0, 1)\n",
      "(0, 0) (1, 0)\n",
      "(0, 1) (0, 2)\n",
      "(0, 1) (1, 1)\n",
      "(0, 2) (0, 3)\n",
      "(0, 2) (1, 2)\n",
      "(0, 3) (0, 4)\n",
      "(0, 3) (1, 3)\n",
      "(0, 4) (1, 4)\n",
      "(1, 0) (1, 1)\n",
      "(1, 0) (2, 0)\n",
      "(1, 1) (1, 2)\n",
      "(1, 1) (2, 1)\n",
      "(1, 2) (1, 3)\n",
      "(1, 2) (2, 2)\n",
      "(1, 3) (1, 4)\n",
      "(1, 3) (2, 3)\n",
      "(1, 4) (2, 4)\n",
      "(2, 0) (2, 1)\n",
      "(2, 0) (3, 0)\n",
      "(2, 1) (3, 1)\n",
      "(2, 1) (2, 2)\n",
      "(2, 2) (3, 2)\n",
      "(2, 2) (2, 3)\n",
      "(2, 3) (3, 3)\n",
      "(2, 3) (2, 4)\n",
      "(2, 4) (3, 4)\n",
      "(3, 0) (3, 1)\n",
      "(3, 0) (4, 0)\n",
      "(3, 1) (3, 2)\n",
      "(3, 1) (4, 1)\n",
      "(3, 2) (3, 3)\n",
      "(3, 2) (4, 2)\n",
      "(3, 3) (3, 4)\n",
      "(3, 3) (4, 3)\n",
      "(3, 4) (4, 4)\n",
      "(4, 0) (4, 1)\n",
      "(4, 1) (4, 2)\n",
      "(4, 2) (4, 3)\n",
      "(4, 3) (4, 4)\n"
     ]
    }
   ],
   "source": [
    "for u,v in g.edge_iterator(labels=False):\n",
    "    print(u,v)\n",
    "    g.set_edge_label(u,v, randint(0,50))\n",
    "editor6.refresh()"
   ]
  },
  {
   "cell_type": "code",
   "execution_count": 20,
   "id": "4a6fdf97",
   "metadata": {},
   "outputs": [
    {
     "data": {
      "application/vnd.jupyter.widget-view+json": {
       "model_id": "2a6ba11e4e364dcb80dcfc5fd3c1ee65",
       "version_major": 2,
       "version_minor": 0
      },
      "text/plain": [
       "Button(description='Next step', icon='forward', style=ButtonStyle(), tooltip='next step')"
      ]
     },
     "metadata": {},
     "output_type": "display_data"
    },
    {
     "name": "stderr",
     "output_type": "stream",
     "text": [
      "/tmp/ipykernel_103548/784733486.py:7: DeprecationWarning: parameter 'sort' will be set to False by default in the future\n",
      "See http://trac.sagemath.org/22349 for details.\n",
      "  Q = G.vertices()\n"
     ]
    }
   ],
   "source": [
    "button"
   ]
  },
  {
   "cell_type": "code",
   "execution_count": 208,
   "id": "e743270b",
   "metadata": {},
   "outputs": [],
   "source": [
    "def widget_BFS(w, source):\n",
    "    \n",
    "    G = w.graph\n",
    "    queue = [source]\n",
    "    prev = {v: None for v in G}\n",
    "    prev[source] = source\n",
    "    \n",
    "    while queue:\n",
    "        \n",
    "        # Take a new vertex in the queue\n",
    "        v = queue.pop(0)\n",
    "        w.set_vertex_color(v, 'red')\n",
    "        w.refresh()\n",
    "        yield\n",
    "        \n",
    "        # Add all its neighbors to the queue if they have not already been considered\n",
    "        for u in w.graph.neighbor_iterator(v):\n",
    "            if prev[u] is not None: # u has already been seen\n",
    "                if prev[v] != u and not w.get_edge_color((u,v)) == 'lightgray':  \n",
    "                    w.set_edge_color((u,v), 'lightgray')\n",
    "                    w.refresh()\n",
    "                    yield\n",
    "            else:\n",
    "                queue.append(u)\n",
    "                prev[u] = v\n",
    "                w.set_vertex_color(u, 'green')\n",
    "                w.set_edge_color((u,v), 'orange')\n",
    "                w.refresh()\n",
    "                yield\n",
    "\n",
    "        if v is source:\n",
    "            w.set_vertex_color(v, 'purple')\n",
    "        else:\n",
    "            w.set_vertex_color(v, 'orange')\n",
    "    w.set_vertex_color(v, 'orange')\n",
    "    w.refresh()"
   ]
  },
  {
   "cell_type": "code",
   "execution_count": 209,
   "id": "b93a8861",
   "metadata": {},
   "outputs": [
    {
     "data": {
      "application/vnd.jupyter.widget-view+json": {
       "model_id": "6bb173dc87834491b67cbbc80a7495f8",
       "version_major": 2,
       "version_minor": 0
      },
      "text/plain": [
       "HBox(children=(VBox(children=(MultiCanvas(height=400, layout=Layout(border='3px solid lightgrey', height='406p…"
      ]
     },
     "metadata": {},
     "output_type": "display_data"
    }
   ],
   "source": [
    "editor7 = GraphEditor(graphs.GridGraph([4,4]), default_radius=20, default_vertex_color='white', show_vertex_labels=False)\n",
    "editor7.show()"
   ]
  },
  {
   "cell_type": "code",
   "execution_count": 210,
   "id": "cc50b32a",
   "metadata": {},
   "outputs": [],
   "source": [
    "from time import sleep\n",
    "\n",
    "def wait():\n",
    "    sleep(float(0.5))\n",
    "    \n",
    "for _ in widget_BFS(editor7, source=editor7.graph.random_vertex()):\n",
    "    wait()"
   ]
  },
  {
   "cell_type": "code",
   "execution_count": 53,
   "id": "a07c2220",
   "metadata": {},
   "outputs": [],
   "source": [
    "G.write_to_eps(\"file.txt\")"
   ]
  },
  {
   "cell_type": "code",
   "execution_count": 178,
   "id": "255ea7b7",
   "metadata": {},
   "outputs": [
    {
     "ename": "FileNotFoundError",
     "evalue": "[Errno 2] No such file or directory: 'a.sobj'",
     "output_type": "error",
     "traceback": [
      "\u001b[0;31m---------------------------------------------------------------------------\u001b[0m",
      "\u001b[0;31mFileNotFoundError\u001b[0m                         Traceback (most recent call last)",
      "Input \u001b[0;32mIn [178]\u001b[0m, in \u001b[0;36m<cell line: 1>\u001b[0;34m()\u001b[0m\n\u001b[0;32m----> 1\u001b[0m \u001b[43mG\u001b[49m\u001b[38;5;241;43m.\u001b[39;49m\u001b[43msave\u001b[49m\u001b[43m(\u001b[49m\u001b[43m)\u001b[49m\n",
      "File \u001b[0;32m~/Downloads/sage-9.7/src/sage/structure/sage_object.pyx:441\u001b[0m, in \u001b[0;36msage.structure.sage_object.SageObject.save\u001b[0;34m()\u001b[0m\n\u001b[1;32m    439\u001b[0m                 \"no default filename, so it must be specified\")\n\u001b[1;32m    440\u001b[0m \n\u001b[0;32m--> 441\u001b[0m filename = _base_save(self, filename, compress=compress)\n\u001b[1;32m    442\u001b[0m \n\u001b[1;32m    443\u001b[0m try:\n",
      "File \u001b[0;32m~/Downloads/sage-9.7/src/sage/misc/persist.pyx:217\u001b[0m, in \u001b[0;36msage.misc.persist._base_save\u001b[0;34m()\u001b[0m\n\u001b[1;32m    215\u001b[0m filename = _normalize_filename(filename)\n\u001b[1;32m    216\u001b[0m \n\u001b[0;32m--> 217\u001b[0m with open(filename, 'wb') as fobj:\n\u001b[1;32m    218\u001b[0m     fobj.write(_base_dumps(obj, compress=compress))\n\u001b[1;32m    219\u001b[0m \n",
      "\u001b[0;31mFileNotFoundError\u001b[0m: [Errno 2] No such file or directory: 'a.sobj'"
     ]
    }
   ],
   "source": [
    "G.save()\n"
   ]
  },
  {
   "cell_type": "code",
   "execution_count": 75,
   "id": "5a066bf4",
   "metadata": {},
   "outputs": [],
   "source": [
    "G.export_to_file(\"b.edgelist\")"
   ]
  },
  {
   "cell_type": "code",
   "execution_count": 76,
   "id": "242be840",
   "metadata": {},
   "outputs": [
    {
     "data": {
      "text/plain": [
       "[0 1 0 0]\n",
       "[1 0 0 1]\n",
       "[0 0 0 1]\n",
       "[0 1 1 0]"
      ]
     },
     "execution_count": 76,
     "metadata": {},
     "output_type": "execute_result"
    }
   ],
   "source": [
    "G.adjacency_matrix()"
   ]
  },
  {
   "cell_type": "code",
   "execution_count": 175,
   "id": "cce4818a",
   "metadata": {},
   "outputs": [
    {
     "ename": "FileNotFoundError",
     "evalue": "[Errno 2] No such file or directory: 'q.sobj'",
     "output_type": "error",
     "traceback": [
      "\u001b[0;31m---------------------------------------------------------------------------\u001b[0m",
      "\u001b[0;31mFileNotFoundError\u001b[0m                         Traceback (most recent call last)",
      "Input \u001b[0;32mIn [175]\u001b[0m, in \u001b[0;36m<cell line: 1>\u001b[0;34m()\u001b[0m\n\u001b[0;32m----> 1\u001b[0m \u001b[43mG\u001b[49m\u001b[38;5;241;43m.\u001b[39;49m\u001b[43msave\u001b[49m\u001b[43m(\u001b[49m\u001b[38;5;124;43m\"\u001b[39;49m\u001b[38;5;124;43mq\u001b[39;49m\u001b[38;5;124;43m\"\u001b[39;49m\u001b[43m)\u001b[49m\n",
      "File \u001b[0;32m~/Downloads/sage-9.7/src/sage/structure/sage_object.pyx:441\u001b[0m, in \u001b[0;36msage.structure.sage_object.SageObject.save\u001b[0;34m()\u001b[0m\n\u001b[1;32m    439\u001b[0m                 \"no default filename, so it must be specified\")\n\u001b[1;32m    440\u001b[0m \n\u001b[0;32m--> 441\u001b[0m filename = _base_save(self, filename, compress=compress)\n\u001b[1;32m    442\u001b[0m \n\u001b[1;32m    443\u001b[0m try:\n",
      "File \u001b[0;32m~/Downloads/sage-9.7/src/sage/misc/persist.pyx:217\u001b[0m, in \u001b[0;36msage.misc.persist._base_save\u001b[0;34m()\u001b[0m\n\u001b[1;32m    215\u001b[0m filename = _normalize_filename(filename)\n\u001b[1;32m    216\u001b[0m \n\u001b[0;32m--> 217\u001b[0m with open(filename, 'wb') as fobj:\n\u001b[1;32m    218\u001b[0m     fobj.write(_base_dumps(obj, compress=compress))\n\u001b[1;32m    219\u001b[0m \n",
      "\u001b[0;31mFileNotFoundError\u001b[0m: [Errno 2] No such file or directory: 'q.sobj'"
     ]
    }
   ],
   "source": [
    "G.save(\"q\")\n"
   ]
  },
  {
   "cell_type": "code",
   "execution_count": 162,
   "id": "3565bd9c",
   "metadata": {},
   "outputs": [
    {
     "data": {
      "text/plain": [
       "[1, 1, 2]"
      ]
     },
     "execution_count": 162,
     "metadata": {},
     "output_type": "execute_result"
    }
   ],
   "source": [
    "l = [1]\n",
    "ll = [1,2]\n",
    "lll = l + ll\n",
    "lll"
   ]
  },
  {
   "cell_type": "code",
   "execution_count": 13,
   "id": "b1861fa1",
   "metadata": {},
   "outputs": [],
   "source": [
    "name_edit = Text(\n",
    "            min=1,\n",
    "            max=100,\n",
    "            step=1,\n",
    "            description=\"\",\n",
    "            disabled=False,\n",
    "            layout={'width': '90px',\n",
    "                    'margin': 'auto 1px auto 0px'}\n",
    "        )"
   ]
  },
  {
   "cell_type": "code",
   "execution_count": 14,
   "id": "3ad5f508",
   "metadata": {},
   "outputs": [
    {
     "data": {
      "application/vnd.jupyter.widget-view+json": {
       "model_id": "a9acdb7c6bdc4c36b3c52ecedcd1de4c",
       "version_major": 2,
       "version_minor": 0
      },
      "text/plain": [
       "Text(value='', layout=Layout(margin='auto 1px auto 0px', width='90px'))"
      ]
     },
     "metadata": {},
     "output_type": "display_data"
    }
   ],
   "source": [
    "name_edit"
   ]
  },
  {
   "cell_type": "code",
   "execution_count": 15,
   "id": "172badf1",
   "metadata": {},
   "outputs": [
    {
     "data": {
      "text/plain": [
       "'dsbhkhjhkjdjhsfkjhakdjhfjkashdffjkahsdjkfhashdjkfhajksdhfjkhasjkdfhjkahdsf'"
      ]
     },
     "execution_count": 15,
     "metadata": {},
     "output_type": "execute_result"
    }
   ],
   "source": [
    "name_edit.value"
   ]
  },
  {
   "cell_type": "code",
   "execution_count": null,
   "id": "a595031f",
   "metadata": {},
   "outputs": [],
   "source": []
  }
 ],
 "metadata": {
  "kernelspec": {
   "display_name": "Python 3 (ipykernel)",
   "language": "python",
   "name": "python3"
  },
  "language_info": {
   "codemirror_mode": {
    "name": "ipython",
    "version": 3
   },
   "file_extension": ".py",
   "mimetype": "text/x-python",
   "name": "python",
   "nbconvert_exporter": "python",
   "pygments_lexer": "ipython3",
   "version": "3.10.6"
  },
  "vscode": {
   "interpreter": {
    "hash": "916dbcbb3f70747c44a77c7bcd40155683ae19c65e1c03b4aa3499c5328201f1"
   }
  }
 },
 "nbformat": 4,
 "nbformat_minor": 5
}
